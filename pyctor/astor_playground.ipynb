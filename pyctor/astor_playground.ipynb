{
 "cells": [
  {
   "cell_type": "code",
   "execution_count": 1,
   "metadata": {},
   "outputs": [
    {
     "ename": "ModuleNotFoundError",
     "evalue": "No module named 'astor'",
     "output_type": "error",
     "traceback": [
      "\u001b[0;31m---------------------------------------------------------------------------\u001b[0m",
      "\u001b[0;31mModuleNotFoundError\u001b[0m                       Traceback (most recent call last)",
      "Cell \u001b[0;32mIn[1], line 2\u001b[0m\n\u001b[1;32m      1\u001b[0m \u001b[39mimport\u001b[39;00m \u001b[39mast\u001b[39;00m\n\u001b[0;32m----> 2\u001b[0m \u001b[39mimport\u001b[39;00m \u001b[39mastor\u001b[39;00m\n\u001b[1;32m      4\u001b[0m expr0 \u001b[39m=\u001b[39m \u001b[39m\"\"\"\u001b[39m\n\u001b[1;32m      5\u001b[0m \u001b[39mfor e in g.Edges():\u001b[39m\n\u001b[1;32m      6\u001b[0m \u001b[39m    z_i=W[e.etype]*e.src.feature\u001b[39m\n\u001b[0;32m   (...)\u001b[0m\n\u001b[1;32m     14\u001b[0m \u001b[39m    e.attn = e.attn/e.dst.softmax_sum\u001b[39m\n\u001b[1;32m     15\u001b[0m \u001b[39m    \u001b[39m\u001b[39m\"\"\"\u001b[39m\n\u001b[1;32m     16\u001b[0m expr_ast0 \u001b[39m=\u001b[39m ast\u001b[39m.\u001b[39mparse(expr0)\n",
      "\u001b[0;31mModuleNotFoundError\u001b[0m: No module named 'astor'"
     ]
    }
   ],
   "source": [
    "import ast\n",
    "import astor\n",
    "\n",
    "expr0 = \"\"\"\n",
    "for e in g.Edges():\n",
    "    z_i=W[e.etype]*e.src.feature\n",
    "    z_j=W[e.etype]*e.dst.feature\n",
    "    e.attn=leakyrelu(attn_vector[e.etype]*concat([z_i,z_j]))\n",
    "for n in g.Nodes():\n",
    "    n.softmax_sum = 0.0\n",
    "    for e_incoming in IncomingEdges(n):\n",
    "        n.softmax_sum+=exp(e_incoming.attn)\n",
    "for e in g.Edges():\n",
    "    e.attn = e.attn/e.dst.softmax_sum\n",
    "    \"\"\"\n",
    "expr_ast0 = ast.parse(expr0)\n",
    "# wrap each for loop with a new for loop\n",
    "for node in ast.walk(expr_ast0):\n",
    "    if isinstance(node, ast.For):\n",
    "        node.body = [\n",
    "            ast.For(target=node.target, iter=node.iter, body=node.body, orelse=[])\n",
    "        ]\n",
    "        node.iter = ast.Name(id=\"range(1)\")\n",
    "        node.target = ast.Name(id=\"_\")\n",
    "# do a loop order change whenever it is two-level\n",
    "for node in ast.walk(expr_ast0):\n",
    "    if isinstance(node, ast.For):\n",
    "        if len(node.body) == 1 and isinstance(node.body[0], ast.For):\n",
    "            node.body[0].body, node.body[0].orelse = (\n",
    "                node.body[0].orelse,\n",
    "                node.body[0].body,\n",
    "            )\n",
    "# do a loop tiling if it is for e in g.Edges()\n",
    "for node in ast.walk(expr_ast0):\n",
    "    if isinstance(node, ast.For):\n",
    "        if (\n",
    "            isinstance(node.iter, ast.Call)\n",
    "            and isinstance(node.iter.func, ast.Attribute)\n",
    "            and node.iter.func.value.id == \"g\"\n",
    "            and node.iter.func.attr == \"Edges\"\n",
    "        ):\n",
    "            # split it to two-level for loops where the first level is for n in g.Nodes() and the second level is for e in n.out_edges()\n",
    "            node.iter = ast.Call(\n",
    "                func=ast.Attribute(value=ast.Name(id=\"g\"), attr=\"Nodes\"),\n",
    "                args=[],\n",
    "                keywords=[],\n",
    "            )  # ast.Call(func=ast.Name(id=\"Nodes\"), args=[], keywords=[])\n",
    "            old_body = node.body\n",
    "            new_for = ast.For(\n",
    "                target=ast.Name(id=\"e\"),\n",
    "                iter=ast.Call(\n",
    "                    func=ast.Attribute(value=ast.Name(id=\"n\"), attr=\"out_edges\"),\n",
    "                    args=[],\n",
    "                    keywords=[],\n",
    "                ),\n",
    "                body=[],\n",
    "                orelse=[],\n",
    "            )\n",
    "            new_for.body = old_body\n",
    "\n",
    "            node.body = []\n",
    "            node.body.append(new_for)\n",
    "            node.body[0].iter = ast.Call(\n",
    "                func=ast.Attribute(value=ast.Name(id=\"n\"), attr=\"out_edges\"),\n",
    "                args=[],\n",
    "                keywords=[],\n",
    "            )\n",
    "\n",
    "\n",
    "print(astor.to_source(expr_ast0))\n",
    "print(ast.dump(expr_ast0))\n",
    "pass\n"
   ]
  },
  {
   "cell_type": "code",
   "execution_count": null,
   "metadata": {},
   "outputs": [],
   "source": []
  }
 ],
 "metadata": {
  "kernelspec": {
   "display_name": "dev_dgl_torch",
   "language": "python",
   "name": "python3"
  },
  "language_info": {
   "codemirror_mode": {
    "name": "ipython",
    "version": 3
   },
   "file_extension": ".py",
   "mimetype": "text/x-python",
   "name": "python",
   "nbconvert_exporter": "python",
   "pygments_lexer": "ipython3",
   "version": "3.9.13"
  },
  "orig_nbformat": 4
 },
 "nbformat": 4,
 "nbformat_minor": 2
}
